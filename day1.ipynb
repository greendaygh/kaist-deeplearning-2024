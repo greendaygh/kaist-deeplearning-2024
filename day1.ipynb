{
  "nbformat": 4,
  "nbformat_minor": 0,
  "metadata": {
    "colab": {
      "provenance": [],
      "mount_file_id": "1OQ1mxr3l5CQLGnDISgcQhNI0iT3LGrjE",
      "authorship_tag": "ABX9TyPj8KON7kEQNYuwOx7PFnW4",
      "include_colab_link": true
    },
    "kernelspec": {
      "name": "python3",
      "display_name": "Python 3"
    },
    "language_info": {
      "name": "python"
    }
  },
  "cells": [
    {
      "cell_type": "markdown",
      "metadata": {
        "id": "view-in-github",
        "colab_type": "text"
      },
      "source": [
        "<a href=\"https://colab.research.google.com/github/greendaygh/kaist-deeplearning-2024/blob/main/day1.ipynb\" target=\"_parent\"><img src=\"https://colab.research.google.com/assets/colab-badge.svg\" alt=\"Open In Colab\"/></a>"
      ]
    },
    {
      "cell_type": "code",
      "execution_count": null,
      "metadata": {
        "id": "eqMyhM5yYjJ1"
      },
      "outputs": [],
      "source": []
    },
    {
      "cell_type": "code",
      "source": [
        "from google.colab import drive\n",
        "drive.mount('/content/drive')"
      ],
      "metadata": {
        "colab": {
          "base_uri": "https://localhost:8080/"
        },
        "id": "psAbzC7H5SQY",
        "outputId": "94659111-c222-48d8-f580-8d05db6b87f3"
      },
      "execution_count": 1,
      "outputs": [
        {
          "output_type": "stream",
          "name": "stdout",
          "text": [
            "Drive already mounted at /content/drive; to attempt to forcibly remount, call drive.mount(\"/content/drive\", force_remount=True).\n"
          ]
        }
      ]
    },
    {
      "cell_type": "markdown",
      "source": [
        "**PyTorch** Overview PyTorch is an open-source deep learning framework developed by Facebook's AI Research lab.\n",
        "\n",
        "It is widely used in research and industry due to its dynamic computation graph and ease of use. Unlike frameworks that use static computation graphs, PyTorch's dynamic graph allows for more flexibility when building and modifying models, making it particularly popular among researchers and for prototyping."
      ],
      "metadata": {
        "id": "zN4_EK8tYkD-"
      }
    },
    {
      "cell_type": "markdown",
      "source": [
        "**Gradient decendent**"
      ],
      "metadata": {
        "id": "_3fJhYnO-pbP"
      }
    },
    {
      "cell_type": "code",
      "source": [
        "import torch\n",
        "\n",
        "# Create a tensor with a gradient\n",
        "x = torch.tensor(3.0, requires_grad=True)\n",
        "\n",
        "# Define a function involving x\n",
        "y = x ** 2 + 2 * x + 1  # y = x^2 + 2x + 1\n",
        "\n",
        "# Compute gradients\n",
        "y.backward()\n",
        "\n",
        "# Print the gradient (dy/dx)\n",
        "print(\"Gradient of y with respect to x:\", x.grad)\n"
      ],
      "metadata": {
        "id": "FOjJFHBFY9IC",
        "colab": {
          "base_uri": "https://localhost:8080/"
        },
        "outputId": "d693e9ca-daf3-4bee-9041-616cda21b23d"
      },
      "execution_count": 2,
      "outputs": [
        {
          "output_type": "stream",
          "name": "stdout",
          "text": [
            "Gradient of y with respect to x: tensor(8.)\n"
          ]
        }
      ]
    },
    {
      "cell_type": "markdown",
      "source": [],
      "metadata": {
        "id": "SW7N6xyiDdtn"
      }
    },
    {
      "cell_type": "markdown",
      "source": [
        "### link\n",
        "- Neural Networks and Deep Learning http://neuralnetworksanddeeplearning.com/"
      ],
      "metadata": {
        "id": "ZB_D_DeoB0gN"
      }
    }
  ]
}